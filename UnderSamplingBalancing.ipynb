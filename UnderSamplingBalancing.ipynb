{
 "cells": [
  {
   "cell_type": "code",
   "execution_count": null,
   "id": "51c8033e-ba97-4e1e-b828-4fa60d496367",
   "metadata": {},
   "outputs": [],
   "source": [
    "import pandas as pd\n",
    "\n",
    "df = pd.read_csv(\"C:\\Users\\IgnasU\\Desktop\\flights_1\\full_data_flightdelay.csv\")\n",
    "\n",
    "# filtering rows where DEP_DEL15 is 1 whcih are delayed flights\n",
    "delayed_flights = df[df['DEP_DEL15'] == 1]\n",
    "\n",
    "# randomly sample an equal number of rows where DEP_DEL15 is 0 which are flights that are not delayed\n",
    "not_delayed_flights = df[df['DEP_DEL15'] == 0].sample(n=len(delayed_flights), random_state=42)\n",
    "\n",
    "# combining the two subsets into a new balanced dataset\n",
    "balanced_df = pd.concat([delayed_flights, not_delayed_flights])\n",
    "\n",
    "# shuffling the dataset to mix delayed and non-delayed rows\n",
    "balanced_df = balanced_df.sample(frac=1, random_state=42).reset_index(drop=True)\n",
    "\n",
    "print(\"New dataset size:\", balanced_df.shape)\n",
    "\n",
    "balanced_df.to_csv('balanced_dataset.csv', index=False)\n"
   ]
  }
 ],
 "metadata": {
  "kernelspec": {
   "display_name": "Python 3 (ipykernel)",
   "language": "python",
   "name": "python3"
  },
  "language_info": {
   "codemirror_mode": {
    "name": "ipython",
    "version": 3
   },
   "file_extension": ".py",
   "mimetype": "text/x-python",
   "name": "python",
   "nbconvert_exporter": "python",
   "pygments_lexer": "ipython3",
   "version": "3.12.4"
  }
 },
 "nbformat": 4,
 "nbformat_minor": 5
}
